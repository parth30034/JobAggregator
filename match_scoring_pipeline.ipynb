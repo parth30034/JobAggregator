{
 "cells": [
  {
   "cell_type": "markdown",
   "metadata": {
    "application/vnd.databricks.v1+cell": {
     "cellMetadata": {},
     "inputWidgets": {},
     "nuid": "7c1ea5af-3fe7-4d08-95e0-ab78445ff37a",
     "showTitle": false,
     "tableResultSettingsMap": {},
     "title": ""
    }
   },
   "source": [
    "##Extract Keywords from resume"
   ]
  },
  {
   "cell_type": "markdown",
   "metadata": {
    "application/vnd.databricks.v1+cell": {
     "cellMetadata": {},
     "inputWidgets": {},
     "nuid": "40e4e163-227e-431b-b91f-776e84bd03e4",
     "showTitle": false,
     "tableResultSettingsMap": {},
     "title": ""
    }
   },
   "source": [
    "##Cell 1 – Install libraries & restart kernel"
   ]
  },
  {
   "cell_type": "code",
   "execution_count": 0,
   "metadata": {
    "application/vnd.databricks.v1+cell": {
     "cellMetadata": {},
     "inputWidgets": {},
     "nuid": "20ea19c6-55a1-4712-bf39-2fdd6f61e541",
     "showTitle": false,
     "tableResultSettingsMap": {},
     "title": ""
    }
   },
   "outputs": [],
   "source": [
    "# ===== 1. Install & Restart =====\n",
    "%pip install spacy sentence-transformers PyPDF2 requests\n",
    "!python -m spacy download en_core_web_sm\n",
    "dbutils.library.restartPython()"
   ]
  },
  {
   "cell_type": "markdown",
   "metadata": {
    "application/vnd.databricks.v1+cell": {
     "cellMetadata": {},
     "inputWidgets": {},
     "nuid": "ec968944-61cd-423c-8820-d2434cae3d45",
     "showTitle": false,
     "tableResultSettingsMap": {},
     "title": ""
    }
   },
   "source": [
    "##Cell 2 – Imports & global configs"
   ]
  },
  {
   "cell_type": "code",
   "execution_count": 0,
   "metadata": {
    "application/vnd.databricks.v1+cell": {
     "cellMetadata": {},
     "inputWidgets": {},
     "nuid": "4e69ffcd-adea-4cd3-aa2f-04d87ad8934b",
     "showTitle": false,
     "tableResultSettingsMap": {},
     "title": ""
    }
   },
   "outputs": [],
   "source": [
    "import io, re, requests\n",
    "from PyPDF2 import PdfReader\n",
    "import spacy\n",
    "from sentence_transformers import SentenceTransformer, util\n",
    "\n",
    "# Load spaCy model\n",
    "nlp = spacy.load(\"en_core_web_sm\")\n",
    "\n",
    "# Curated technical keywords\n",
    "TECH_TERMS = {\n",
    "    \"python\",\"pyspark\",\"sql\",\"aws\",\"azure\",\"databricks\",\"spark\",\"hive\",\n",
    "    \"redshift\",\"airflow\",\"docker\",\"jenkins\",\"kafka\",\"eventhub\",\"kinesis\",\n",
    "    \"machine learning\",\"data engineering\",\"etl\",\"pipeline\",\"s3\",\"emr\",\n",
    "    \"mwaa\",\"adf\",\"data lake\",\"synapse\",\"hdinsight\",\"cloud\",\"governance\"\n",
    "}\n"
   ]
  },
  {
   "cell_type": "code",
   "execution_count": 0,
   "metadata": {
    "application/vnd.databricks.v1+cell": {
     "cellMetadata": {},
     "inputWidgets": {},
     "nuid": "a475da11-db0f-4c81-ace1-6e3fdacecaee",
     "showTitle": false,
     "tableResultSettingsMap": {},
     "title": ""
    }
   },
   "outputs": [],
   "source": []
  },
  {
   "cell_type": "markdown",
   "metadata": {
    "application/vnd.databricks.v1+cell": {
     "cellMetadata": {},
     "inputWidgets": {},
     "nuid": "d783db6c-91c2-4852-8161-423ba6c2c6d8",
     "showTitle": false,
     "tableResultSettingsMap": {},
     "title": ""
    }
   },
   "source": [
    "##Cell 3 – Utility functions"
   ]
  },
  {
   "cell_type": "code",
   "execution_count": 0,
   "metadata": {
    "application/vnd.databricks.v1+cell": {
     "cellMetadata": {},
     "inputWidgets": {},
     "nuid": "4cded49c-6009-4d47-b628-d48344d05098",
     "showTitle": false,
     "tableResultSettingsMap": {},
     "title": ""
    }
   },
   "outputs": [],
   "source": [
    "def extract_technical_terms(text):\n",
    "    if not text:\n",
    "        return \"\"\n",
    "    doc = nlp(text.lower())\n",
    "    terms = set()\n",
    "    for chunk in doc.noun_chunks:\n",
    "        if chunk.text.strip() in TECH_TERMS:\n",
    "            terms.add(chunk.text.strip())\n",
    "    for token in doc:\n",
    "        if token.is_alpha and not token.is_stop and token.lemma_ in TECH_TERMS:\n",
    "            terms.add(token.lemma_)\n",
    "    return \" \".join(sorted(terms))\n"
   ]
  },
  {
   "cell_type": "markdown",
   "metadata": {
    "application/vnd.databricks.v1+cell": {
     "cellMetadata": {},
     "inputWidgets": {},
     "nuid": "e5d1c812-5063-40df-aadd-27112e0957b4",
     "showTitle": false,
     "tableResultSettingsMap": {},
     "title": ""
    }
   },
   "source": [
    "##Cell 4 – Load resume text & preprocess"
   ]
  },
  {
   "cell_type": "code",
   "execution_count": 0,
   "metadata": {
    "application/vnd.databricks.v1+cell": {
     "cellMetadata": {},
     "inputWidgets": {},
     "nuid": "065d2e23-ded3-4ecc-b846-8a78d4c54270",
     "showTitle": false,
     "tableResultSettingsMap": {},
     "title": ""
    }
   },
   "outputs": [],
   "source": [
    "resume_url = \"https://raw.githubusercontent.com/parth30034/Docs/main/Resume_Parth_Shrivastava.pdf\"\n",
    "pdf_bytes = requests.get(resume_url).content\n",
    "reader = PdfReader(io.BytesIO(pdf_bytes))\n",
    "resume_text = \" \".join([page.extract_text() for page in reader.pages])\n",
    "resume_filtered = extract_technical_terms(resume_text)\n"
   ]
  },
  {
   "cell_type": "markdown",
   "metadata": {
    "application/vnd.databricks.v1+cell": {
     "cellMetadata": {},
     "inputWidgets": {},
     "nuid": "2b1c16f8-a1fe-40af-bacd-1c7e87bc9db4",
     "showTitle": false,
     "tableResultSettingsMap": {},
     "title": ""
    }
   },
   "source": [
    "##Cell 5 – Read all job descriptions from Delta table"
   ]
  },
  {
   "cell_type": "code",
   "execution_count": 0,
   "metadata": {
    "application/vnd.databricks.v1+cell": {
     "cellMetadata": {},
     "inputWidgets": {},
     "nuid": "b683513c-ed3f-4825-91c8-31bd3cec0d6e",
     "showTitle": false,
     "tableResultSettingsMap": {},
     "title": ""
    }
   },
   "outputs": [],
   "source": [
    "jobs_df = spark.read.format(\"delta\").table(\"main.gold.jobs_final\")\n",
    "job_rows = jobs_df.select(\"title\", \"company_name\", \"description\").collect()\n",
    "job_filtered_texts = [extract_technical_terms(r.description) if r.description else \"\" for r in job_rows]\n"
   ]
  },
  {
   "cell_type": "markdown",
   "metadata": {
    "application/vnd.databricks.v1+cell": {
     "cellMetadata": {},
     "inputWidgets": {},
     "nuid": "871c0abc-b359-43bb-8a9f-6ebd2d0b816b",
     "showTitle": false,
     "tableResultSettingsMap": {},
     "title": ""
    }
   },
   "source": [
    "##Cell 6 – Semantic matching in bulk"
   ]
  },
  {
   "cell_type": "code",
   "execution_count": 0,
   "metadata": {
    "application/vnd.databricks.v1+cell": {
     "cellMetadata": {},
     "inputWidgets": {},
     "nuid": "a4da4f59-cc60-49fb-9327-303f8a271ea7",
     "showTitle": false,
     "tableResultSettingsMap": {},
     "title": ""
    }
   },
   "outputs": [],
   "source": [
    "model = SentenceTransformer(\"all-MiniLM-L6-v2\")\n",
    "resume_emb = model.encode(resume_filtered, convert_to_tensor=True)\n",
    "job_embs = model.encode(job_filtered_texts, convert_to_tensor=True)\n",
    "\n",
    "scores = util.cos_sim(resume_emb, job_embs)[0].cpu().numpy() * 100\n",
    "\n",
    "results = []\n",
    "for row, score in zip(job_rows, scores):\n",
    "    results.append({\n",
    "        \"title\": row.title,\n",
    "        \"company_name\": row.company_name,\n",
    "        \"match_percent\": round(float(score), 2),\n",
    "        \"description\": row.description\n",
    "    })\n",
    "\n",
    "results_df = spark.createDataFrame(results)\n",
    "display(results_df.orderBy(results_df.match_percent.desc()))\n"
   ]
  },
  {
   "cell_type": "markdown",
   "metadata": {
    "application/vnd.databricks.v1+cell": {
     "cellMetadata": {},
     "inputWidgets": {},
     "nuid": "5679d1bf-70c2-427d-a872-602647f5b26c",
     "showTitle": false,
     "tableResultSettingsMap": {},
     "title": ""
    }
   },
   "source": [
    "## Cell 7 – Save results to Delta Gold table"
   ]
  },
  {
   "cell_type": "code",
   "execution_count": 0,
   "metadata": {
    "application/vnd.databricks.v1+cell": {
     "cellMetadata": {},
     "inputWidgets": {},
     "nuid": "3f03f97e-f8db-48c5-ada8-e49b56f73684",
     "showTitle": false,
     "tableResultSettingsMap": {},
     "title": ""
    }
   },
   "outputs": [
    {
     "output_type": "stream",
     "name": "stdout",
     "output_type": "stream",
     "text": [
      "✅ Results saved to main.gold.jobs_with_match\n"
     ]
    }
   ],
   "source": [
    "\n",
    "results_df \\\n",
    "    .write \\\n",
    "    .format(\"delta\") \\\n",
    "    .mode(\"overwrite\") \\\n",
    "    .saveAsTable(\"main.gold.jobs_with_match\")\n",
    "\n",
    "print(\"✅ Results saved to main.gold.jobs_with_match\")\n"
   ]
  },
  {
   "cell_type": "code",
   "execution_count": 0,
   "metadata": {
    "application/vnd.databricks.v1+cell": {
     "cellMetadata": {},
     "collapsed": true,
     "inputWidgets": {},
     "nuid": "9e31bc3c-eab2-416c-b25a-a456d497c16f",
     "showTitle": false,
     "tableResultSettingsMap": {},
     "title": ""
    }
   },
   "outputs": [
    {
     "output_type": "display_data",
     "data": {
      "text/html": [
       "<style scoped>\n",
       "  .table-result-container {\n",
       "    max-height: 300px;\n",
       "    overflow: auto;\n",
       "  }\n",
       "  table, th, td {\n",
       "    border: 1px solid black;\n",
       "    border-collapse: collapse;\n",
       "  }\n",
       "  th, td {\n",
       "    padding: 5px;\n",
       "  }\n",
       "  th {\n",
       "    text-align: left;\n",
       "  }\n",
       "</style><div class='table-result-container'><table class='table-result'><thead style='background-color: white'><tr><th>company_name</th><th>avg_match_percent</th></tr></thead><tbody><tr><td>MSCI</td><td>83.36</td></tr><tr><td>ASTELLAS PHARMA</td><td>82.27</td></tr><tr><td>ASSA ABLOY</td><td>82.05000000000001</td></tr><tr><td>AT&T</td><td>81.07</td></tr><tr><td>ZENSAR TECHNOLOGIES</td><td>78.93</td></tr><tr><td>TIETOEVRY</td><td>78.09000000000002</td></tr><tr><td>ALL EUROPEAN CAREERS</td><td>76.95</td></tr><tr><td>TANISHA SYSTEMS  INC</td><td>75.1</td></tr><tr><td>EXXONMOBIL</td><td>74.44999999999999</td></tr><tr><td>BARCLAYS</td><td>74.19</td></tr><tr><td>MAERSK</td><td>73.77</td></tr><tr><td>AKASHX</td><td>71.44</td></tr><tr><td>ADOBE</td><td>69.86</td></tr><tr><td>MCKINSEY & COMPANY</td><td>69.62</td></tr><tr><td>THE IT FIRM</td><td>69.12</td></tr><tr><td>NESTOR TECHNOLOGIES</td><td>68.77</td></tr><tr><td>EXPERIAN</td><td>68.72</td></tr><tr><td>VISA</td><td>68.36</td></tr><tr><td>IND201 REFINITIV INDIA SHARED SERVICES PRIVATE LIMITED</td><td>68.22</td></tr><tr><td>THE VALUE MAXIMIZER</td><td>67.89999999999999</td></tr><tr><td>CODECRAFT TECHNOLOGIES</td><td>67.06</td></tr><tr><td>AVAYA</td><td>67.06</td></tr><tr><td>MINFY</td><td>63.690000000000005</td></tr><tr><td>BRILLIANTECH SOFTWARE</td><td>63.38000000000001</td></tr><tr><td>ICIMS TALENT ACQUISITION</td><td>63.32999999999999</td></tr><tr><td>MOTIVE</td><td>62.54</td></tr><tr><td>HPE</td><td>62.43</td></tr><tr><td>UNITEDHEALTH GROUP</td><td>61.40999999999998</td></tr><tr><td>SAPLING INFOSYSTEMS</td><td>60.54</td></tr><tr><td>SYNECHRON TECHNOLOGIES PVT. LTD._INDIA COMPANY</td><td>60.11</td></tr><tr><td>E902 DWS INDIA PRIVATE LIMITED, MAHARASHTRA BRANCH</td><td>58.82</td></tr><tr><td>5100 KYNDRYL SOLUTIONS PRIVATE LIMITED</td><td>56.61000000000001</td></tr><tr><td>MATHWORKS</td><td>56.04</td></tr><tr><td>BNP PARIBAS INDIA SOLUTIONS</td><td>53.95499999999999</td></tr><tr><td>PERIMATTIC</td><td>53.26</td></tr><tr><td>ALBIREO TECH SYSTEM</td><td>53.22000000000001</td></tr><tr><td>MICROSTRATEGY</td><td>51.46</td></tr><tr><td>IITJOBS INC</td><td>50.57999999999999</td></tr><tr><td>ECOSMART ENERGY SYSTEM LLC</td><td>50.53</td></tr><tr><td>HIREGINIE</td><td>50.11000000000001</td></tr><tr><td>EPAM SYSTEMS</td><td>48.72</td></tr><tr><td>AERA TECHNOLOGY</td><td>45.91</td></tr><tr><td>HITACHI CAREERS</td><td>45.03</td></tr><tr><td>ZOOM</td><td>44.87</td></tr><tr><td>UBER</td><td>42.300000000000004</td></tr><tr><td>FLUOR</td><td>40.18</td></tr><tr><td>EXAMROOM.AI</td><td>34.65</td></tr><tr><td>QUALCOMM</td><td>34.61</td></tr><tr><td>FEDERAL EXPRESS CORPORATION AMEA</td><td>33.38</td></tr><tr><td>BNP PARIBAS</td><td>33.19</td></tr><tr><td>DUPONT</td><td>33.19</td></tr><tr><td>AMAZON</td><td>27.16</td></tr><tr><td>A CLIENT OF ANALYTICS VIDHYA</td><td>26.639999999999993</td></tr><tr><td>INFOSYS</td><td>26.639999999999993</td></tr><tr><td>ARMPL</td><td>26.639999999999993</td></tr><tr><td>MASTERCARD</td><td>26.639999999999993</td></tr><tr><td>IN10 (FCRS = IN010) NOVARTIS HEALTHCARE PRIVATE LIMITED</td><td>16.25</td></tr><tr><td>INSIGHT GLOBAL</td><td>14.33</td></tr><tr><td>BRAINIUM INFORMATION TECHNOLOGIES PVT. LTD.</td><td>14.289999999999996</td></tr><tr><td>GIANTMIND SOLUTIONS</td><td>14.289999999999996</td></tr><tr><td>NAGARRO</td><td>5.34</td></tr><tr><td>KEYWORDS STUDIOS</td><td>5.34</td></tr><tr><td>STAFFINGINE LLC</td><td>5.34</td></tr><tr><td>D. E. SHAW INDIA</td><td>5.34</td></tr></tbody></table></div>"
      ]
     },
     "metadata": {
      "application/vnd.databricks.v1+output": {
       "addedWidgets": {},
       "aggData": [],
       "aggError": "",
       "aggOverflow": false,
       "aggSchema": [],
       "aggSeriesLimitReached": false,
       "aggType": "",
       "arguments": {},
       "columnCustomDisplayInfos": {},
       "data": [
        [
         "MSCI",
         83.36
        ],
        [
         "ASTELLAS PHARMA",
         82.27
        ],
        [
         "ASSA ABLOY",
         82.05000000000001
        ],
        [
         "AT&T",
         81.07
        ],
        [
         "ZENSAR TECHNOLOGIES",
         78.93
        ],
        [
         "TIETOEVRY",
         78.09000000000002
        ],
        [
         "ALL EUROPEAN CAREERS",
         76.95
        ],
        [
         "TANISHA SYSTEMS  INC",
         75.1
        ],
        [
         "EXXONMOBIL",
         74.44999999999999
        ],
        [
         "BARCLAYS",
         74.19
        ],
        [
         "MAERSK",
         73.77
        ],
        [
         "AKASHX",
         71.44
        ],
        [
         "ADOBE",
         69.86
        ],
        [
         "MCKINSEY & COMPANY",
         69.62
        ],
        [
         "THE IT FIRM",
         69.12
        ],
        [
         "NESTOR TECHNOLOGIES",
         68.77
        ],
        [
         "EXPERIAN",
         68.72
        ],
        [
         "VISA",
         68.36
        ],
        [
         "IND201 REFINITIV INDIA SHARED SERVICES PRIVATE LIMITED",
         68.22
        ],
        [
         "THE VALUE MAXIMIZER",
         67.89999999999999
        ],
        [
         "CODECRAFT TECHNOLOGIES",
         67.06
        ],
        [
         "AVAYA",
         67.06
        ],
        [
         "MINFY",
         63.690000000000005
        ],
        [
         "BRILLIANTECH SOFTWARE",
         63.38000000000001
        ],
        [
         "ICIMS TALENT ACQUISITION",
         63.32999999999999
        ],
        [
         "MOTIVE",
         62.54
        ],
        [
         "HPE",
         62.43
        ],
        [
         "UNITEDHEALTH GROUP",
         61.40999999999998
        ],
        [
         "SAPLING INFOSYSTEMS",
         60.54
        ],
        [
         "SYNECHRON TECHNOLOGIES PVT. LTD._INDIA COMPANY",
         60.11
        ],
        [
         "E902 DWS INDIA PRIVATE LIMITED, MAHARASHTRA BRANCH",
         58.82
        ],
        [
         "5100 KYNDRYL SOLUTIONS PRIVATE LIMITED",
         56.61000000000001
        ],
        [
         "MATHWORKS",
         56.04
        ],
        [
         "BNP PARIBAS INDIA SOLUTIONS",
         53.95499999999999
        ],
        [
         "PERIMATTIC",
         53.26
        ],
        [
         "ALBIREO TECH SYSTEM",
         53.22000000000001
        ],
        [
         "MICROSTRATEGY",
         51.46
        ],
        [
         "IITJOBS INC",
         50.57999999999999
        ],
        [
         "ECOSMART ENERGY SYSTEM LLC",
         50.53
        ],
        [
         "HIREGINIE",
         50.11000000000001
        ],
        [
         "EPAM SYSTEMS",
         48.72
        ],
        [
         "AERA TECHNOLOGY",
         45.91
        ],
        [
         "HITACHI CAREERS",
         45.03
        ],
        [
         "ZOOM",
         44.87
        ],
        [
         "UBER",
         42.300000000000004
        ],
        [
         "FLUOR",
         40.18
        ],
        [
         "EXAMROOM.AI",
         34.65
        ],
        [
         "QUALCOMM",
         34.61
        ],
        [
         "FEDERAL EXPRESS CORPORATION AMEA",
         33.38
        ],
        [
         "BNP PARIBAS",
         33.19
        ],
        [
         "DUPONT",
         33.19
        ],
        [
         "AMAZON",
         27.16
        ],
        [
         "A CLIENT OF ANALYTICS VIDHYA",
         26.639999999999993
        ],
        [
         "INFOSYS",
         26.639999999999993
        ],
        [
         "ARMPL",
         26.639999999999993
        ],
        [
         "MASTERCARD",
         26.639999999999993
        ],
        [
         "IN10 (FCRS = IN010) NOVARTIS HEALTHCARE PRIVATE LIMITED",
         16.25
        ],
        [
         "INSIGHT GLOBAL",
         14.33
        ],
        [
         "BRAINIUM INFORMATION TECHNOLOGIES PVT. LTD.",
         14.289999999999996
        ],
        [
         "GIANTMIND SOLUTIONS",
         14.289999999999996
        ],
        [
         "NAGARRO",
         5.34
        ],
        [
         "KEYWORDS STUDIOS",
         5.34
        ],
        [
         "STAFFINGINE LLC",
         5.34
        ],
        [
         "D. E. SHAW INDIA",
         5.34
        ]
       ],
       "datasetInfos": [],
       "dbfsResultPath": null,
       "isJsonSchema": true,
       "metadata": {},
       "overflow": false,
       "plotOptions": {
        "customPlotOptions": {},
        "displayType": "table",
        "pivotAggregation": null,
        "pivotColumns": null,
        "xColumns": null,
        "yColumns": null
       },
       "removedWidgets": [],
       "schema": [
        {
         "metadata": "{}",
         "name": "company_name",
         "type": "\"string\""
        },
        {
         "metadata": "{}",
         "name": "avg_match_percent",
         "type": "\"double\""
        }
       ],
       "type": "table"
      }
     },
     "output_type": "display_data"
    }
   ],
   "source": [
    "company_stats = (\n",
    "    results_df.groupBy(\"company_name\")\n",
    "              .avg(\"match_percent\")\n",
    "              .withColumnRenamed(\"avg(match_percent)\", \"avg_match_percent\")\n",
    "              .orderBy(\"avg_match_percent\", ascending=False)\n",
    ")\n",
    "\n",
    "display(company_stats)"
   ]
  }
 ],
 "metadata": {
  "application/vnd.databricks.v1+notebook": {
   "computePreferences": null,
   "dashboards": [],
   "environmentMetadata": {
    "base_environment": "",
    "environment_version": "2"
   },
   "inputWidgetPreferences": null,
   "language": "python",
   "notebookMetadata": {
    "pythonIndentUnit": 4
   },
   "notebookName": "match_scoring_pipeline",
   "widgets": {}
  },
  "language_info": {
   "name": "python"
  }
 },
 "nbformat": 4,
 "nbformat_minor": 0
}